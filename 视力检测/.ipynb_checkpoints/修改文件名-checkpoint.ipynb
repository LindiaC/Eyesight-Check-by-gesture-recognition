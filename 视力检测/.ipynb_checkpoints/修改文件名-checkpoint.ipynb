{
 "cells": [
  {
   "cell_type": "code",
   "execution_count": 16,
   "id": "aab51852",
   "metadata": {},
   "outputs": [
    {
     "ename": "FileNotFoundError",
     "evalue": "[WinError 3] 系统找不到指定的路径。: 'E:\\\\Lindia\\\\2023.08.21 AI Lab 夏令营\\\\视力检测\\\\dataset\\\\{change}'",
     "output_type": "error",
     "traceback": [
      "\u001b[1;31m---------------------------------------------------------------------------\u001b[0m",
      "\u001b[1;31mFileNotFoundError\u001b[0m                         Traceback (most recent call last)",
      "\u001b[1;32m~\\AppData\\Local\\Temp\\ipykernel_22484\\3651175317.py\u001b[0m in \u001b[0;36m<module>\u001b[1;34m\u001b[0m\n\u001b[0;32m     27\u001b[0m     \u001b[1;31m#输出修改后文件夹中包含的文件\u001b[0m\u001b[1;33m\u001b[0m\u001b[1;33m\u001b[0m\u001b[0m\n\u001b[0;32m     28\u001b[0m \u001b[1;33m\u001b[0m\u001b[0m\n\u001b[1;32m---> 29\u001b[1;33m \u001b[0mrenameall\u001b[0m\u001b[1;33m(\u001b[0m\u001b[1;33m)\u001b[0m\u001b[1;33m\u001b[0m\u001b[1;33m\u001b[0m\u001b[0m\n\u001b[0m",
      "\u001b[1;32m~\\AppData\\Local\\Temp\\ipykernel_22484\\3651175317.py\u001b[0m in \u001b[0;36mrenameall\u001b[1;34m()\u001b[0m\n\u001b[0;32m      8\u001b[0m \u001b[1;33m\u001b[0m\u001b[0m\n\u001b[0;32m      9\u001b[0m \u001b[1;32mdef\u001b[0m \u001b[0mrenameall\u001b[0m\u001b[1;33m(\u001b[0m\u001b[1;33m)\u001b[0m\u001b[1;33m:\u001b[0m\u001b[1;33m\u001b[0m\u001b[1;33m\u001b[0m\u001b[0m\n\u001b[1;32m---> 10\u001b[1;33m     \u001b[0mfileList\u001b[0m \u001b[1;33m=\u001b[0m \u001b[0mos\u001b[0m\u001b[1;33m.\u001b[0m\u001b[0mlistdir\u001b[0m\u001b[1;33m(\u001b[0m\u001b[1;34mr\"E:\\Lindia\\2023.08.21 AI Lab 夏令营\\视力检测\\dataset\\{change}\"\u001b[0m\u001b[1;33m)\u001b[0m             \u001b[1;31m#待修改文件夹\u001b[0m\u001b[1;33m\u001b[0m\u001b[1;33m\u001b[0m\u001b[0m\n\u001b[0m\u001b[0;32m     11\u001b[0m     \u001b[0mprint\u001b[0m\u001b[1;33m(\u001b[0m\u001b[1;34m\"修改前：\"\u001b[0m\u001b[1;33m+\u001b[0m\u001b[0mstr\u001b[0m\u001b[1;33m(\u001b[0m\u001b[0mfileList\u001b[0m\u001b[1;33m)\u001b[0m\u001b[1;33m)\u001b[0m         \u001b[1;31m#输出文件夹中包含的文件\u001b[0m\u001b[1;33m\u001b[0m\u001b[1;33m\u001b[0m\u001b[0m\n\u001b[0;32m     12\u001b[0m     \u001b[0mcurrentpath\u001b[0m \u001b[1;33m=\u001b[0m \u001b[0mos\u001b[0m\u001b[1;33m.\u001b[0m\u001b[0mgetcwd\u001b[0m\u001b[1;33m(\u001b[0m\u001b[1;33m)\u001b[0m           \u001b[1;31m#得到进程当前工作目录\u001b[0m\u001b[1;33m\u001b[0m\u001b[1;33m\u001b[0m\u001b[0m\n",
      "\u001b[1;31mFileNotFoundError\u001b[0m: [WinError 3] 系统找不到指定的路径。: 'E:\\\\Lindia\\\\2023.08.21 AI Lab 夏令营\\\\视力检测\\\\dataset\\\\{change}'"
     ]
    }
   ],
   "source": [
    "\n",
    "#批量修改文件名\n",
    "#批量修改图片文件名\n",
    "import os\n",
    "import re\n",
    "import sys\n",
    "\n",
    "change='right'\n",
    "\n",
    "def renameall():\n",
    "    fileList = os.listdir(\"E:\\\\Lindia\\\\2023.08.21 AI Lab 夏令营\\\\视力检测\\\\dataset\\\\\"+change)\t\t#待修改文件夹\n",
    "    print(\"修改前：\"+str(fileList))\t\t#输出文件夹中包含的文件\n",
    "    currentpath = os.getcwd()\t\t#得到进程当前工作目录\n",
    "    os.chdir(\"E:\\\\Lindia\\\\2023.08.21 AI Lab 夏令营\\\\视力检测\\\\dataset\\\\\"+change)\t\t#将当前工作目录修改为待修改文件夹的位置\n",
    "    num=0\t\t#名称变量\n",
    "    for fileName in fileList:\t\t#遍历文件夹中所有文件\n",
    "        if fileName[-3:] not in ['jpg', 'png', 'gif']:\n",
    "            continue\n",
    "        \n",
    "        pat=\".+\\.(jpg)\"\t\t#匹配文件名正则表达式\n",
    "        pattern = re.findall(pat,fileName)\t\t#进行匹配\n",
    "        os.rename(fileName,('up'+str(num)+'.'+pattern[0]))\t\t#文件重新命名\n",
    "        num = num+1\t\t#改变编号，继续下一项\n",
    "    print(\"---------------------------------------------------\")\n",
    "    os.chdir(currentpath)\t\t#改回程序运行前的工作目录\n",
    "    sys.stdin.flush()\t\t#刷新\n",
    "    print(\"修改后：\"+str(os.listdir(\"E:\\\\Lindia\\\\2023.08.21 AI Lab 夏令营\\\\视力检测\\\\dataset\\\\\"+change)))\n",
    "    #输出修改后文件夹中包含的文件\n",
    "    \n",
    "renameall()"
   ]
  },
  {
   "cell_type": "code",
   "execution_count": null,
   "id": "92b6b662",
   "metadata": {},
   "outputs": [],
   "source": []
  }
 ],
 "metadata": {
  "kernelspec": {
   "display_name": "Python 3 (ipykernel)",
   "language": "python",
   "name": "python3"
  },
  "language_info": {
   "codemirror_mode": {
    "name": "ipython",
    "version": 3
   },
   "file_extension": ".py",
   "mimetype": "text/x-python",
   "name": "python",
   "nbconvert_exporter": "python",
   "pygments_lexer": "ipython3",
   "version": "3.9.13"
  }
 },
 "nbformat": 4,
 "nbformat_minor": 5
}
